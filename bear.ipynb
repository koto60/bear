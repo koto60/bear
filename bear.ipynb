{
  "nbformat": 4,
  "nbformat_minor": 0,
  "metadata": {
    "colab": {
      "name": "Untitled0.ipynb",
      "provenance": [],
      "collapsed_sections": []
    },
    "kernelspec": {
      "name": "python3",
      "display_name": "Python 3"
    },
    "language_info": {
      "name": "python"
    },
    "widgets": {
      "application/vnd.jupyter.widget-state+json": {
        "37a9aa729a884d279b42cb1bedd9e48a": {
          "model_module": "@jupyter-widgets/controls",
          "model_name": "VBoxModel",
          "state": {
            "_view_name": "VBoxView",
            "_dom_classes": [],
            "_model_name": "VBoxModel",
            "_view_module": "@jupyter-widgets/controls",
            "_model_module_version": "1.5.0",
            "_view_count": null,
            "_view_module_version": "1.5.0",
            "box_style": "",
            "layout": "IPY_MODEL_a8cbc27efe084db3890f2133065975b0",
            "_model_module": "@jupyter-widgets/controls",
            "children": [
              "IPY_MODEL_59108eb9656140519cb65fdbda82f8c5",
              "IPY_MODEL_275529d5016e4813a3f6bd76d7308c40",
              "IPY_MODEL_e4c10b014fbb4eefb6a1574926f446f6",
              "IPY_MODEL_2aca69ac81e44836976dd3a63c44ceeb"
            ]
          }
        },
        "a8cbc27efe084db3890f2133065975b0": {
          "model_module": "@jupyter-widgets/base",
          "model_name": "LayoutModel",
          "state": {
            "_view_name": "LayoutView",
            "grid_template_rows": null,
            "right": null,
            "justify_content": null,
            "_view_module": "@jupyter-widgets/base",
            "overflow": null,
            "_model_module_version": "1.2.0",
            "_view_count": null,
            "flex_flow": null,
            "width": null,
            "min_width": null,
            "border": null,
            "align_items": null,
            "bottom": null,
            "_model_module": "@jupyter-widgets/base",
            "top": null,
            "grid_column": null,
            "overflow_y": null,
            "overflow_x": null,
            "grid_auto_flow": null,
            "grid_area": null,
            "grid_template_columns": null,
            "flex": null,
            "_model_name": "LayoutModel",
            "justify_items": null,
            "grid_row": null,
            "max_height": null,
            "align_content": null,
            "visibility": null,
            "align_self": null,
            "height": null,
            "min_height": null,
            "padding": null,
            "grid_auto_rows": null,
            "grid_gap": null,
            "max_width": null,
            "order": null,
            "_view_module_version": "1.2.0",
            "grid_template_areas": null,
            "object_position": null,
            "object_fit": null,
            "grid_auto_columns": null,
            "margin": null,
            "display": null,
            "left": null
          }
        },
        "59108eb9656140519cb65fdbda82f8c5": {
          "model_module": "@jupyter-widgets/controls",
          "model_name": "LabelModel",
          "state": {
            "_view_name": "LabelView",
            "style": "IPY_MODEL_777a27ce43c743f2be4c99f705101afc",
            "_dom_classes": [],
            "description": "",
            "_model_name": "LabelModel",
            "placeholder": "​",
            "_view_module": "@jupyter-widgets/controls",
            "_model_module_version": "1.5.0",
            "value": "Select your bear!",
            "_view_count": null,
            "_view_module_version": "1.5.0",
            "description_tooltip": null,
            "_model_module": "@jupyter-widgets/controls",
            "layout": "IPY_MODEL_15d0f1df2b8149dc99ff33ccee3cfdea"
          }
        },
        "275529d5016e4813a3f6bd76d7308c40": {
          "model_module": "@jupyter-widgets/controls",
          "model_name": "FileUploadModel",
          "state": {
            "_view_name": "FileUploadView",
            "_counter": 1,
            "style": "IPY_MODEL_c6d42c4c9f55484096b2b13bb727bcaa",
            "_dom_classes": [],
            "description": "Upload",
            "multiple": false,
            "_model_name": "FileUploadModel",
            "data": [
              null
            ],
            "button_style": "",
            "_view_module": "@jupyter-widgets/controls",
            "_model_module_version": "1.5.0",
            "accept": "",
            "_view_count": null,
            "disabled": false,
            "_view_module_version": "1.5.0",
            "error": "",
            "description_tooltip": null,
            "metadata": [
              {
                "name": "gifflar_chococaramel_v.png",
                "type": "image/png",
                "size": 174322,
                "lastModified": 1625504744344
              }
            ],
            "_model_module": "@jupyter-widgets/controls",
            "layout": "IPY_MODEL_4faa13aac57143a4a483722f3dadd5f0",
            "icon": "upload"
          }
        },
        "e4c10b014fbb4eefb6a1574926f446f6": {
          "model_module": "@jupyter-widgets/output",
          "model_name": "OutputModel",
          "state": {
            "_view_name": "OutputView",
            "msg_id": "",
            "_dom_classes": [],
            "_model_name": "OutputModel",
            "outputs": [
              {
                "output_type": "display_data",
                "metadata": {
                  "tags": []
                },
                "image/png": "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\n",
                "text/plain": "<PIL.Image.Image image mode=RGB size=128x128 at 0x7EFC75A229D0>"
              }
            ],
            "_view_module": "@jupyter-widgets/output",
            "_model_module_version": "1.0.0",
            "_view_count": null,
            "_view_module_version": "1.0.0",
            "layout": "IPY_MODEL_91d4d80cf44f4b76852260a01405e59b",
            "_model_module": "@jupyter-widgets/output"
          }
        },
        "2aca69ac81e44836976dd3a63c44ceeb": {
          "model_module": "@jupyter-widgets/controls",
          "model_name": "LabelModel",
          "state": {
            "_view_name": "LabelView",
            "style": "IPY_MODEL_f90cca2933d34a77b711da5af77234b5",
            "_dom_classes": [],
            "description": "",
            "_model_name": "LabelModel",
            "placeholder": "​",
            "_view_module": "@jupyter-widgets/controls",
            "_model_module_version": "1.5.0",
            "value": "Prediction: teddy; Probability: 0.9815",
            "_view_count": null,
            "_view_module_version": "1.5.0",
            "description_tooltip": null,
            "_model_module": "@jupyter-widgets/controls",
            "layout": "IPY_MODEL_0d98bb33a72e49abb6c194bb3bb9ffe0"
          }
        },
        "777a27ce43c743f2be4c99f705101afc": {
          "model_module": "@jupyter-widgets/controls",
          "model_name": "DescriptionStyleModel",
          "state": {
            "_view_name": "StyleView",
            "_model_name": "DescriptionStyleModel",
            "description_width": "",
            "_view_module": "@jupyter-widgets/base",
            "_model_module_version": "1.5.0",
            "_view_count": null,
            "_view_module_version": "1.2.0",
            "_model_module": "@jupyter-widgets/controls"
          }
        },
        "15d0f1df2b8149dc99ff33ccee3cfdea": {
          "model_module": "@jupyter-widgets/base",
          "model_name": "LayoutModel",
          "state": {
            "_view_name": "LayoutView",
            "grid_template_rows": null,
            "right": null,
            "justify_content": null,
            "_view_module": "@jupyter-widgets/base",
            "overflow": null,
            "_model_module_version": "1.2.0",
            "_view_count": null,
            "flex_flow": null,
            "width": null,
            "min_width": null,
            "border": null,
            "align_items": null,
            "bottom": null,
            "_model_module": "@jupyter-widgets/base",
            "top": null,
            "grid_column": null,
            "overflow_y": null,
            "overflow_x": null,
            "grid_auto_flow": null,
            "grid_area": null,
            "grid_template_columns": null,
            "flex": null,
            "_model_name": "LayoutModel",
            "justify_items": null,
            "grid_row": null,
            "max_height": null,
            "align_content": null,
            "visibility": null,
            "align_self": null,
            "height": null,
            "min_height": null,
            "padding": null,
            "grid_auto_rows": null,
            "grid_gap": null,
            "max_width": null,
            "order": null,
            "_view_module_version": "1.2.0",
            "grid_template_areas": null,
            "object_position": null,
            "object_fit": null,
            "grid_auto_columns": null,
            "margin": null,
            "display": null,
            "left": null
          }
        },
        "c6d42c4c9f55484096b2b13bb727bcaa": {
          "model_module": "@jupyter-widgets/controls",
          "model_name": "ButtonStyleModel",
          "state": {
            "_view_name": "StyleView",
            "_model_name": "ButtonStyleModel",
            "_view_module": "@jupyter-widgets/base",
            "_model_module_version": "1.5.0",
            "_view_count": null,
            "button_color": null,
            "font_weight": "",
            "_view_module_version": "1.2.0",
            "_model_module": "@jupyter-widgets/controls"
          }
        },
        "4faa13aac57143a4a483722f3dadd5f0": {
          "model_module": "@jupyter-widgets/base",
          "model_name": "LayoutModel",
          "state": {
            "_view_name": "LayoutView",
            "grid_template_rows": null,
            "right": null,
            "justify_content": null,
            "_view_module": "@jupyter-widgets/base",
            "overflow": null,
            "_model_module_version": "1.2.0",
            "_view_count": null,
            "flex_flow": null,
            "width": null,
            "min_width": null,
            "border": null,
            "align_items": null,
            "bottom": null,
            "_model_module": "@jupyter-widgets/base",
            "top": null,
            "grid_column": null,
            "overflow_y": null,
            "overflow_x": null,
            "grid_auto_flow": null,
            "grid_area": null,
            "grid_template_columns": null,
            "flex": null,
            "_model_name": "LayoutModel",
            "justify_items": null,
            "grid_row": null,
            "max_height": null,
            "align_content": null,
            "visibility": null,
            "align_self": null,
            "height": null,
            "min_height": null,
            "padding": null,
            "grid_auto_rows": null,
            "grid_gap": null,
            "max_width": null,
            "order": null,
            "_view_module_version": "1.2.0",
            "grid_template_areas": null,
            "object_position": null,
            "object_fit": null,
            "grid_auto_columns": null,
            "margin": null,
            "display": null,
            "left": null
          }
        },
        "f90cca2933d34a77b711da5af77234b5": {
          "model_module": "@jupyter-widgets/controls",
          "model_name": "DescriptionStyleModel",
          "state": {
            "_view_name": "StyleView",
            "_model_name": "DescriptionStyleModel",
            "description_width": "",
            "_view_module": "@jupyter-widgets/base",
            "_model_module_version": "1.5.0",
            "_view_count": null,
            "_view_module_version": "1.2.0",
            "_model_module": "@jupyter-widgets/controls"
          }
        },
        "0d98bb33a72e49abb6c194bb3bb9ffe0": {
          "model_module": "@jupyter-widgets/base",
          "model_name": "LayoutModel",
          "state": {
            "_view_name": "LayoutView",
            "grid_template_rows": null,
            "right": null,
            "justify_content": null,
            "_view_module": "@jupyter-widgets/base",
            "overflow": null,
            "_model_module_version": "1.2.0",
            "_view_count": null,
            "flex_flow": null,
            "width": null,
            "min_width": null,
            "border": null,
            "align_items": null,
            "bottom": null,
            "_model_module": "@jupyter-widgets/base",
            "top": null,
            "grid_column": null,
            "overflow_y": null,
            "overflow_x": null,
            "grid_auto_flow": null,
            "grid_area": null,
            "grid_template_columns": null,
            "flex": null,
            "_model_name": "LayoutModel",
            "justify_items": null,
            "grid_row": null,
            "max_height": null,
            "align_content": null,
            "visibility": null,
            "align_self": null,
            "height": null,
            "min_height": null,
            "padding": null,
            "grid_auto_rows": null,
            "grid_gap": null,
            "max_width": null,
            "order": null,
            "_view_module_version": "1.2.0",
            "grid_template_areas": null,
            "object_position": null,
            "object_fit": null,
            "grid_auto_columns": null,
            "margin": null,
            "display": null,
            "left": null
          }
        },
        "91d4d80cf44f4b76852260a01405e59b": {
          "model_module": "@jupyter-widgets/base",
          "model_name": "LayoutModel",
          "state": {
            "_view_name": "LayoutView",
            "grid_template_rows": null,
            "right": null,
            "justify_content": null,
            "_view_module": "@jupyter-widgets/base",
            "overflow": null,
            "_model_module_version": "1.2.0",
            "_view_count": null,
            "flex_flow": null,
            "width": null,
            "min_width": null,
            "border": null,
            "align_items": null,
            "bottom": null,
            "_model_module": "@jupyter-widgets/base",
            "top": null,
            "grid_column": null,
            "overflow_y": null,
            "overflow_x": null,
            "grid_auto_flow": null,
            "grid_area": null,
            "grid_template_columns": null,
            "flex": null,
            "_model_name": "LayoutModel",
            "justify_items": null,
            "grid_row": null,
            "max_height": null,
            "align_content": null,
            "visibility": null,
            "align_self": null,
            "height": null,
            "min_height": null,
            "padding": null,
            "grid_auto_rows": null,
            "grid_gap": null,
            "max_width": null,
            "order": null,
            "_view_module_version": "1.2.0",
            "grid_template_areas": null,
            "object_position": null,
            "object_fit": null,
            "grid_auto_columns": null,
            "margin": null,
            "display": null,
            "left": null
          }
        }
      }
    }
  },
  "cells": [
    {
      "cell_type": "code",
      "metadata": {
        "id": "op99QECAbal-"
      },
      "source": [
        "from fastai.vision.all import *\n",
        "from fastai.vision.widgets import *"
      ],
      "execution_count": 1,
      "outputs": []
    },
    {
      "cell_type": "markdown",
      "metadata": {
        "id": "SZRSlCgQdx2Z"
      },
      "source": [
        "\n",
        "The Amazing Bear Classifier!\n",
        "\n",
        "You need to know whether you're being chased by a dangerous grizzly, or a sweet teddy bear, and you need an answer fast? Then you've come to the right place. Take a pic of the potentially vicious killer, and click 'upload' to classify it. (Important: this only handles grizzly bears, black bears, and teddy bears. It will not give a sensible answer for polar bears, a bear market, a bear of a man, or hot dogs."
      ]
    },
    {
      "cell_type": "code",
      "metadata": {
        "id": "EWfhfezTdxJb"
      },
      "source": [
        "path = Path()\n",
        "learn_inf = load_learner(path/'export.pkl', cpu=True)\n",
        "btn_upload = widgets.FileUpload()\n",
        "out_pl = widgets.Output()\n",
        "lbl_pred = widgets.Label()"
      ],
      "execution_count": 3,
      "outputs": []
    },
    {
      "cell_type": "code",
      "metadata": {
        "id": "1vo_2pAYfB-W"
      },
      "source": [
        "def on_data_change(change):\n",
        "    lbl_pred.value = ''\n",
        "    img = PILImage.create(btn_upload.data[-1])\n",
        "    out_pl.clear_output()\n",
        "    with out_pl: display(img.to_thumb(128,128))\n",
        "    pred,pred_idx,probs = learn_inf.predict(img)\n",
        "    lbl_pred.value = f'Prediction: {pred}; Probability: {probs[pred_idx]:.04f}'"
      ],
      "execution_count": 4,
      "outputs": []
    },
    {
      "cell_type": "code",
      "metadata": {
        "id": "Xdg8JqhLgDz_"
      },
      "source": [
        "btn_upload.observe(on_data_change, names=['data'])"
      ],
      "execution_count": 5,
      "outputs": []
    },
    {
      "cell_type": "code",
      "metadata": {
        "colab": {
          "base_uri": "https://localhost:8080/",
          "height": 298,
          "referenced_widgets": [
            "37a9aa729a884d279b42cb1bedd9e48a",
            "a8cbc27efe084db3890f2133065975b0",
            "59108eb9656140519cb65fdbda82f8c5",
            "275529d5016e4813a3f6bd76d7308c40",
            "e4c10b014fbb4eefb6a1574926f446f6",
            "2aca69ac81e44836976dd3a63c44ceeb",
            "777a27ce43c743f2be4c99f705101afc",
            "15d0f1df2b8149dc99ff33ccee3cfdea",
            "c6d42c4c9f55484096b2b13bb727bcaa",
            "4faa13aac57143a4a483722f3dadd5f0",
            "f90cca2933d34a77b711da5af77234b5",
            "0d98bb33a72e49abb6c194bb3bb9ffe0",
            "91d4d80cf44f4b76852260a01405e59b"
          ]
        },
        "id": "wDwfEh_TgFOW",
        "outputId": "9cf84645-9aa1-4c1c-e60a-1bc047e92358"
      },
      "source": [
        "display(VBox([widgets.Label('Select your bear!'), btn_upload, out_pl, lbl_pred]))"
      ],
      "execution_count": 6,
      "outputs": [
        {
          "output_type": "display_data",
          "data": {
            "application/vnd.jupyter.widget-view+json": {
              "model_id": "37a9aa729a884d279b42cb1bedd9e48a",
              "version_minor": 0,
              "version_major": 2
            },
            "text/plain": [
              "VBox(children=(Label(value='Select your bear!'), FileUpload(value={}, description='Upload'), Output(), Label(v…"
            ]
          },
          "metadata": {
            "tags": []
          }
        },
        {
          "output_type": "display_data",
          "data": {
            "text/html": [
              ""
            ],
            "text/plain": [
              "<IPython.core.display.HTML object>"
            ]
          },
          "metadata": {
            "tags": []
          }
        },
        {
          "output_type": "stream",
          "text": [
            "/usr/local/lib/python3.7/dist-packages/torch/nn/functional.py:718: UserWarning: Named tensors and all their associated APIs are an experimental feature and subject to change. Please do not use them for anything important until they are released as stable. (Triggered internally at  /pytorch/c10/core/TensorImpl.h:1156.)\n",
            "  return torch.max_pool2d(input, kernel_size, stride, padding, dilation, ceil_mode)\n"
          ],
          "name": "stderr"
        }
      ]
    },
    {
      "cell_type": "code",
      "metadata": {
        "id": "MbP1FdR5gGy2"
      },
      "source": [
        ""
      ],
      "execution_count": null,
      "outputs": []
    }
  ]
}